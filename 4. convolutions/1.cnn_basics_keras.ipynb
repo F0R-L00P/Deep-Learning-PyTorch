{
 "cells": [
  {
   "cell_type": "markdown",
   "metadata": {
    "id": "E9GCGMtwyohS"
   },
   "source": [
    "# Convolutional Neural Networks (CNN)\n",
    "\n",
    "In the first part of this lab session we will explore how __convolutions__ work, basic __CNN architectures__ and __impact of hyperparameters__. <br>\n",
    "In the second part you will integrate neural network trained in part 1, to the drawing program to continuously predict drawn object.  \n"
   ]
  },
  {
   "cell_type": "markdown",
   "metadata": {
    "id": "mRp_qWdxyohW"
   },
   "source": [
    "## Basic Imports\n",
    "\n",
    "For this lab session, we will be needing Keras, Numpy and Tensorflow. <br>\n",
    "We will build our CNN in Keras, but first we need to understand the underlying principles, for which we will use Tensorflow. <br>\n",
    "Numpy will be mainly used for dataset preprocessing."
   ]
  },
  {
   "cell_type": "code",
   "execution_count": 1,
   "metadata": {
    "id": "5P4TN6uLyohX"
   },
   "outputs": [],
   "source": [
    "import keras\n",
    "import numpy as np\n",
    "\n",
    "from numpy.random import seed\n",
    "import tensorflow as tf"
   ]
  },
  {
   "cell_type": "code",
   "execution_count": 2,
   "metadata": {},
   "outputs": [
    {
     "name": "stdout",
     "output_type": "stream",
     "text": [
      "env: CUDA_DEVICE_ORDER=PCI_BUS_ID\n",
      "env: CUDA_VISIBLE_DEVICES=2\n",
      "Device mapping:\n",
      "/job:localhost/replica:0/task:0/device:XLA_CPU:0 -> device: XLA_CPU device\n",
      "/job:localhost/replica:0/task:0/device:XLA_GPU:0 -> device: XLA_GPU device\n",
      "/job:localhost/replica:0/task:0/device:GPU:0 -> device: 0, name: GeForce RTX 2080 Ti, pci bus id: 0000:0b:00.0, compute capability: 7.5\n",
      "\n"
     ]
    }
   ],
   "source": [
    "try:\n",
    "    %env CUDA_DEVICE_ORDER=PCI_BUS_ID\n",
    "    %env CUDA_VISIBLE_DEVICES=2\n",
    "except NameError:\n",
    "    os.environ[\"CUDA_DEVICE_ORDER\"] = \"PCI_BUS_ID\"\n",
    "    os.environ[\"CUDA_VISIBLE_DEVICES\"] = \"0\"\n",
    "\n",
    "## ALlowing growth for remote server GPUs\n",
    "config = tf.compat.v1.ConfigProto()\n",
    "config.gpu_options.allow_growth = True  # dynamically grow the memory used on the GPU\n",
    "config.log_device_placement = True  # to log device placement (on which device the operation ran)\n",
    "sess = tf.compat.v1.Session(config=config)\n",
    "tf.compat.v1.keras.backend.set_session(sess)  # set this TensorFlow session as the default session for Keras\n"
   ]
  },
  {
   "cell_type": "markdown",
   "metadata": {
    "id": "coF3bUaByohe"
   },
   "source": [
    "## Replicability\n",
    "While experimenting and researching, it is important that your results can be __replicated by other people__. <br>\n",
    "To ensure some level of replicability, we can __set the starting seed__ of both numpy and tensorflow __to known value__. <br>\n",
    "Therefore, when we initialise our network to random values, these states can be calculated and replicated just by knowing the seed.<br>\n",
    "Sadly, due to the lossy nature of GPU calculations, training itself cannot be perfectly replicated, but it is still good practice to set initial seeds to known values. "
   ]
  },
  {
   "cell_type": "code",
   "execution_count": 2,
   "metadata": {
    "id": "68_hPQu8yohf"
   },
   "outputs": [],
   "source": [
    "seed(101)\n",
    "tf.random.set_seed(101)"
   ]
  },
  {
   "cell_type": "markdown",
   "metadata": {
    "id": "VE6znDdhyohj"
   },
   "source": [
    "## Low Level Code\n",
    "\n",
    "While building model, we will add whole convolution layer in a neat package `Conv2D()`. <br>\n",
    "But before we do so, it is good to understand the __underlaying mechanics__ and __code implementation__ of convolutions. <br>\n",
    "In the following example, we will define our image/data array `inputs`, and using `kernel` apply 2D convolution. <br>\n",
    "Full implemenation of convolution layer can be found <a src=\"https://github.com/keras-team/keras/blob/8ed57c168f171de7420e9a96f9e305b8236757df/keras/layers/convolutional.py#L161\"> here</a>. <br>\n",
    "\n",
    "\n",
    "A convolution input must have shape of `(BatchSize, width, height, inputChannels)` <br>\n",
    "A convolution filter must have shape of `(width, height, inputChannels, outputChannels)` <br>\n",
    "\n",
    "### Task\n",
    "1) Experiment with different strides, kernel, padding etc. <br>\n",
    "2) Why does first ouput element equal to 21.0?"
   ]
  },
  {
   "cell_type": "markdown",
   "metadata": {
    "id": "tMy6HP4Wyohi"
   },
   "source": [
    "# Convolutions\n",
    "\n",
    "Convolutional Neural Networks (CNNs) are designed to learn features directly from image pixels. They can classify patterns or objects with extreme variability. Currently, they form the core of various __computer vision systems__ such as Facebooks automated photo tagging, handwritten characters recognition, self-driving cars, marine mammal detection, and medical image analysis. In this lab, we will start by exploring a convolution function which forms the heart of CNNs.\n",
    "\n",
    "![Convolution](https://raw.githubusercontent.com/RetinalSW/COM3025/master/data/convolution_kernal.png)\n",
    "\n",
    "\n"
   ]
  },
  {
   "cell_type": "code",
   "execution_count": 3,
   "metadata": {
    "id": "EDUa_aP1yohj"
   },
   "outputs": [
    {
     "name": "stdout",
     "output_type": "stream",
     "text": [
      "Shape of an Input: <bound method _EagerTensorBase.get_shape of <tf.Tensor: shape=(1, 5, 5, 1), dtype=float32, numpy=\n",
      "array([[[[ 1.],\n",
      "         [ 2.],\n",
      "         [ 3.],\n",
      "         [ 4.],\n",
      "         [ 5.]],\n",
      "\n",
      "        [[ 6.],\n",
      "         [ 7.],\n",
      "         [ 8.],\n",
      "         [ 9.],\n",
      "         [10.]],\n",
      "\n",
      "        [[11.],\n",
      "         [12.],\n",
      "         [13.],\n",
      "         [14.],\n",
      "         [15.]],\n",
      "\n",
      "        [[16.],\n",
      "         [17.],\n",
      "         [18.],\n",
      "         [19.],\n",
      "         [20.]],\n",
      "\n",
      "        [[21.],\n",
      "         [22.],\n",
      "         [23.],\n",
      "         [24.],\n",
      "         [25.]]]], dtype=float32)>>\n",
      "Shape of a Kernel <bound method _EagerTensorBase.get_shape of <tf.Tensor: shape=(3, 3, 1, 1), dtype=float32, numpy=\n",
      "array([[[[1.]],\n",
      "\n",
      "        [[0.]],\n",
      "\n",
      "        [[0.]]],\n",
      "\n",
      "\n",
      "       [[[0.]],\n",
      "\n",
      "        [[1.]],\n",
      "\n",
      "        [[0.]]],\n",
      "\n",
      "\n",
      "       [[[0.]],\n",
      "\n",
      "        [[0.]],\n",
      "\n",
      "        [[1.]]]], dtype=float32)>>\n",
      "Shape of result: <bound method _EagerTensorBase.get_shape of <tf.Tensor: shape=(1, 3, 3, 1), dtype=float32, numpy=\n",
      "array([[[[21.],\n",
      "         [24.],\n",
      "         [27.]],\n",
      "\n",
      "        [[36.],\n",
      "         [39.],\n",
      "         [42.]],\n",
      "\n",
      "        [[51.],\n",
      "         [54.],\n",
      "         [57.]]]], dtype=float32)>>\n",
      "Result: [[[[21.]\n",
      "   [24.]\n",
      "   [27.]]\n",
      "\n",
      "  [[36.]\n",
      "   [39.]\n",
      "   [42.]]\n",
      "\n",
      "  [[51.]\n",
      "   [54.]\n",
      "   [57.]]]]\n"
     ]
    }
   ],
   "source": [
    "# We need keras.backend and tensorflow to create proper tensors directly\n",
    "import tensorflow.keras.backend as K\n",
    "import tensorflow as tf\n",
    "\n",
    "\n",
    "inputs = tf.constant([[[1.0],  [2.0],  [3.0],  [4.0],  [5.0]],\n",
    "                      [[6.0],  [7.0],  [8.0],  [9.0],  [10.0]],\n",
    "                      [[11.0], [12.0], [13.0], [14.0], [15.0]],\n",
    "                      [[16.0], [17.0], [18.0], [19.0], [20.0]],\n",
    "                      [[21.0], [22.0], [23.0], [24.0], [25.0]]\n",
    "                     ])\n",
    "\n",
    "\n",
    "kernel = tf.constant([[1.0,0.0,0.0],\n",
    "                      [0.0,1.0,0.0],\n",
    "                      [0.0,0.0,1.0]])\n",
    "\n",
    "\n",
    "\n",
    "inputs = K.reshape(inputs,(-1,5,5,1))\n",
    "print(\"Shape of an Input:\", inputs.get_shape)\n",
    "\n",
    "kernel =K.reshape(kernel,(3,3,1,1))\n",
    "print(\"Shape of a Kernel\", kernel.get_shape)\n",
    "\n",
    "strides=(1, 1)\n",
    "padding='valid'\n",
    "\n",
    "result = K.conv2d(inputs, kernel, strides=strides, padding=padding)\n",
    "print(\"Shape of result:\", result.get_shape)\n",
    "\n",
    "print(\"Result:\", K.eval(result))"
   ]
  },
  {
   "cell_type": "markdown",
   "metadata": {
    "id": "QjIURbvsyohm"
   },
   "source": [
    "# Dropout\n",
    "Dropout consists of __randomly__ setting a fraction `rate` of input units to 0 at each update __during training time__\n",
    "which helps to __prevent overfitting__. <br>\n",
    "To balance the overall signal strength, we increase the non-zero outputs accordingly. \n",
    "\n",
    "\n",
    "## Arguments\n",
    "`rate`: float between 0 and 1. Fraction of the input units to drop."
   ]
  },
  {
   "cell_type": "code",
   "execution_count": 42,
   "metadata": {
    "id": "4pPZrNnNyohm"
   },
   "outputs": [
    {
     "name": "stdout",
     "output_type": "stream",
     "text": [
      "Result: [0. 5. 0. 0. 0. 0.]\n"
     ]
    }
   ],
   "source": [
    "inputs = tf.constant([1.0, 1.0, 1.0, 1.0, 1.0, 1.0])\n",
    "rate = 0.8\n",
    "\n",
    "result = K.dropout(inputs, rate, None)\n",
    "print(\"Result:\", K.eval(result))"
   ]
  },
  {
   "cell_type": "markdown",
   "metadata": {
    "id": "12ATZEXIyoho"
   },
   "source": [
    "# Pooling\n",
    "\n",
    "## MaxPooling\n",
    "\n",
    "Another important concept of CNNs is max-pooling, which is a form of\n",
    "non-linear down-sampling. Max-pooling partitions the input image into a\n",
    "set of non-overlapping rectangles and, for each such sub-region, outputs\n",
    "the maximum value.\n",
    "Max-pooling is useful in vision for two reasons:\n",
    "- By eliminating non-maximal values, it reduces computation for upper layers.\n",
    "- It provides a form of translation invariance.\n",
    "\n",
    "\n",
    "## AveragePooling\n",
    "Alternative to MaxPooling is Average pooling, where you take sum of all elements in pool and divide by number of elements. \n",
    "\n",
    "Experiment with different strides, kernel, padding etc. <br> \n"
   ]
  },
  {
   "cell_type": "code",
   "execution_count": 47,
   "metadata": {
    "id": "520X_-ziyoho"
   },
   "outputs": [
    {
     "name": "stdout",
     "output_type": "stream",
     "text": [
      "Shape of an Input: <bound method _EagerTensorBase.get_shape of <tf.Tensor: shape=(1, 5, 5, 1), dtype=float32, numpy=\n",
      "array([[[[ 1.],\n",
      "         [ 2.],\n",
      "         [ 3.],\n",
      "         [ 4.],\n",
      "         [ 5.]],\n",
      "\n",
      "        [[ 6.],\n",
      "         [ 7.],\n",
      "         [ 8.],\n",
      "         [ 9.],\n",
      "         [10.]],\n",
      "\n",
      "        [[11.],\n",
      "         [12.],\n",
      "         [13.],\n",
      "         [14.],\n",
      "         [15.]],\n",
      "\n",
      "        [[16.],\n",
      "         [17.],\n",
      "         [18.],\n",
      "         [19.],\n",
      "         [20.]],\n",
      "\n",
      "        [[21.],\n",
      "         [22.],\n",
      "         [23.],\n",
      "         [24.],\n",
      "         [25.]]]], dtype=float32)>>\n",
      "<bound method _EagerTensorBase.get_shape of <tf.Tensor: shape=(1, 4, 4, 1), dtype=float32, numpy=\n",
      "array([[[[ 7.],\n",
      "         [ 8.],\n",
      "         [ 9.],\n",
      "         [10.]],\n",
      "\n",
      "        [[12.],\n",
      "         [13.],\n",
      "         [14.],\n",
      "         [15.]],\n",
      "\n",
      "        [[17.],\n",
      "         [18.],\n",
      "         [19.],\n",
      "         [20.]],\n",
      "\n",
      "        [[22.],\n",
      "         [23.],\n",
      "         [24.],\n",
      "         [25.]]]], dtype=float32)>>\n"
     ]
    }
   ],
   "source": [
    "inputs = tf.constant([[[1.0],  [2.0],  [3.0],  [4.0],  [5.0]],\n",
    "                      [[6.0],  [7.0],  [8.0],  [9.0],  [10.0]],\n",
    "                      [[11.0], [12.0], [13.0], [14.0], [15.0]],\n",
    "                      [[16.0], [17.0], [18.0], [19.0], [20.0]],\n",
    "                      [[21.0], [22.0], [23.0], [24.0], [25.0]]\n",
    "                     ])\n",
    "\n",
    "inputs = K.reshape(inputs,(-1,5,5,1))\n",
    "print(\"Shape of an Input:\", inputs.get_shape)\n",
    "\n",
    "pool_size = (2,2)\n",
    "strides=(1, 1)\n",
    "padding='valid'\n",
    "data_format=None\n",
    "pool_mode='max' # or use 'avg'\n",
    "\n",
    "result = K.pool2d(inputs, pool_size=pool_size, strides = strides,\n",
    "                          padding = padding, data_format = data_format,\n",
    "                          pool_mode=pool_mode)\n",
    "\n",
    "print(result.get_shape)\n",
    "# print(\"Result:\", K.eval(result))"
   ]
  },
  {
   "cell_type": "markdown",
   "metadata": {
    "id": "0PZ0c4OppRLv"
   },
   "source": [
    "# Stride and Padding\n",
    "- You might have noticed the padding and stride, but do you know what the stride and padding exactly are?\n",
    "## Convolution animations\n",
    "\n",
    "_N.B.: Blue maps are inputs, and cyan maps are outputs._\n",
    "\n",
    "<table style=\"width:100%; table-layout:fixed;\">\n",
    "  <tr>\n",
    "    <td><img width=\"150px\" src=\"https://github.com/vdumoulin/conv_arithmetic/raw/master/gif/no_padding_no_strides.gif\"></td>\n",
    "    <td><img width=\"150px\" src=\"https://github.com/vdumoulin/conv_arithmetic/raw/master/gif/arbitrary_padding_no_strides.gif\"></td>\n",
    "    <td><img width=\"150px\" src=\"https://github.com/vdumoulin/conv_arithmetic/raw/master/gif/same_padding_no_strides.gif\"></td>\n",
    "    <td><img width=\"150px\" src=\"https://github.com/vdumoulin/conv_arithmetic/raw/master/gif/full_padding_no_strides.gif\"></td>\n",
    "  </tr>\n",
    "  <tr>\n",
    "    <td>No padding, no strides</td>\n",
    "    <td>Arbitrary padding, no strides</td>\n",
    "    <td>Half padding, no strides</td>\n",
    "    <td>Full padding, no strides</td>\n",
    "  </tr>\n",
    "  <tr>\n",
    "    <td><img width=\"150px\" src=\"https://github.com/vdumoulin/conv_arithmetic/raw/master/gif/no_padding_strides.gif\"></td>\n",
    "    <td><img width=\"150px\" src=\"https://github.com/vdumoulin/conv_arithmetic/raw/master/gif/padding_strides.gif\"></td>\n",
    "    <td><img width=\"150px\" src=\"https://github.com/vdumoulin/conv_arithmetic/raw/master/gif/padding_strides_odd.gif\"></td>\n",
    "    <td></td>\n",
    "  </tr>\n",
    "  <tr>\n",
    "    <td>No padding, strides</td>\n",
    "    <td>Padding, strides</td>\n",
    "    <td>Padding, strides (odd)</td>\n",
    "    <td></td>\n",
    "  </tr>\n",
    "</table>\n",
    "\n",
    "## Transposed convolution animations\n",
    "\n",
    "_N.B.: Blue maps are inputs, and cyan maps are outputs._\n",
    "\n",
    "<table style=\"width:100%; table-layout:fixed;\">\n",
    "  <tr>\n",
    "    <td><img width=\"150px\" src=\"https://github.com/vdumoulin/conv_arithmetic/raw/master/gif/no_padding_no_strides_transposed.gif\"></td>\n",
    "    <td><img width=\"150px\" src=\"https://github.com/vdumoulin/conv_arithmetic/raw/master/gif/arbitrary_padding_no_strides_transposed.gif\"></td>\n",
    "    <td><img width=\"150px\" src=\"https://github.com/vdumoulin/conv_arithmetic/raw/master/gif/same_padding_no_strides_transposed.gif\"></td>\n",
    "    <td><img width=\"150px\" src=\"https://github.com/vdumoulin/conv_arithmetic/raw/master/gif/full_padding_no_strides_transposed.gif\"></td>\n",
    "  </tr>\n",
    "  <tr>\n",
    "    <td>No padding, no strides, transposed</td>\n",
    "    <td>Arbitrary padding, no strides, transposed</td>\n",
    "    <td>Half padding, no strides, transposed</td>\n",
    "    <td>Full padding, no strides, transposed</td>\n",
    "  </tr>\n",
    "  <tr>\n",
    "    <td><img width=\"150px\" src=\"https://github.com/vdumoulin/conv_arithmetic/raw/master/gif/no_padding_strides_transposed.gif\"></td>\n",
    "    <td><img width=\"150px\" src=\"https://github.com/vdumoulin/conv_arithmetic/raw/master/gif/padding_strides_transposed.gif\"></td>\n",
    "    <td><img width=\"150px\" src=\"https://github.com/vdumoulin/conv_arithmetic/raw/master/gif/padding_strides_odd_transposed.gif\"></td>\n",
    "    <td></td>\n",
    "  </tr>\n",
    "  <tr>\n",
    "    <td>No padding, strides, transposed</td>\n",
    "    <td>Padding, strides, transposed</td>\n",
    "    <td>Padding, strides, transposed (odd)</td>\n",
    "    <td></td>\n",
    "  </tr>\n",
    "</table>\n",
    "\n",
    "## Dilated convolution animations\n",
    "\n",
    "_N.B.: Blue maps are inputs, and cyan maps are outputs._\n",
    "\n",
    "<table style=\"width:25%\"; table-layout:fixed;>\n",
    "  <tr>\n",
    "    <td><img width=\"150px\" src=\"https://github.com/vdumoulin/conv_arithmetic/raw/master/gif/dilation.gif\"></td>\n",
    "  </tr>\n",
    "  <tr>\n",
    "    <td>No padding, no stride, dilation</td>\n",
    "  </tr>\n",
    "</table>\n",
    "\n",
    "### Reference: [https://github.com/vdumoulin/conv_arithmetic](https://github.com/vdumoulin/conv_arithmetic)"
   ]
  },
  {
   "cell_type": "markdown",
   "metadata": {
    "id": "Mohrx8gns73e"
   },
   "source": [
    "## <font color='red'>Task</font>\n",
    "We have a input of (1x4x4x1)\n",
    "- Can you output make a Conv2D that give the output that is the same size as the input?\n",
    "- Can you make the output a half smaller than the original output? `(1x2x2x1)`\n",
    "- You can verify by printing out the result.shape"
   ]
  },
  {
   "cell_type": "code",
   "execution_count": 5,
   "metadata": {
    "id": "Cf7qUPM0s3zk"
   },
   "outputs": [
    {
     "name": "stdout",
     "output_type": "stream",
     "text": [
      "Shape of an Input: (1, 4, 4, 1)\n",
      "(1, 2, 2, 1)\n"
     ]
    }
   ],
   "source": [
    "inputs = tf.constant([[[1.0],  [2.0],  [3.0],  [4.0]],\n",
    "                      [[6.0],  [7.0],  [8.0],  [9.0]],\n",
    "                      [[16.0], [17.0], [18.0], [19.0]],\n",
    "                      [[21.0], [22.0], [23.0], [24.0]]\n",
    "                     ])\n",
    "\n",
    "inputs = K.reshape(inputs,(-1,4,4,1))\n",
    "print(\"Shape of an Input:\", inputs.shape)\n",
    "# Your code here (make the same size)\n",
    "strides=(1, 1)\n",
    "padding='same'\n",
    "result = K.conv2d(inputs, kernel, strides=strides, padding=padding)\n",
    "# print(result.shape)\n",
    "\n",
    "# Make sure your output's shape is the same as the input\n",
    "\n",
    "# Your code here (make a half smaller)\n",
    "strides=(1, 1)\n",
    "padding='valid'\n",
    "result = K.conv2d(inputs, kernel, strides=strides, padding=padding)\n",
    "print(result.shape)\n",
    "\n",
    "# Make sure your output's shape is the same as the input\n"
   ]
  },
  {
   "cell_type": "markdown",
   "metadata": {
    "id": "PjKP2Gouyohq"
   },
   "source": [
    "# Flatten\n",
    "\n",
    "This function will convert tensor with any shape/number of dimensions to tensor of 1 dimension. <br>\n",
    "Flattening is very commonly used to convert output from convolution layer to dense layer."
   ]
  },
  {
   "cell_type": "code",
   "execution_count": 6,
   "metadata": {
    "id": "Qj9NJWp6yohr"
   },
   "outputs": [
    {
     "name": "stdout",
     "output_type": "stream",
     "text": [
      "Shape of an Input: <bound method _EagerTensorBase.get_shape of <tf.Tensor: shape=(1, 5, 5, 1), dtype=float32, numpy=\n",
      "array([[[[ 1.],\n",
      "         [ 2.],\n",
      "         [ 3.],\n",
      "         [ 4.],\n",
      "         [ 5.]],\n",
      "\n",
      "        [[ 6.],\n",
      "         [ 7.],\n",
      "         [ 8.],\n",
      "         [ 9.],\n",
      "         [10.]],\n",
      "\n",
      "        [[11.],\n",
      "         [12.],\n",
      "         [13.],\n",
      "         [14.],\n",
      "         [15.]],\n",
      "\n",
      "        [[16.],\n",
      "         [17.],\n",
      "         [18.],\n",
      "         [19.],\n",
      "         [20.]],\n",
      "\n",
      "        [[21.],\n",
      "         [22.],\n",
      "         [23.],\n",
      "         [24.],\n",
      "         [25.]]]], dtype=float32)>>\n",
      "[[ 1.  2.  3.  4.  5.  6.  7.  8.  9. 10. 11. 12. 13. 14. 15. 16. 17. 18.\n",
      "  19. 20. 21. 22. 23. 24. 25.]]\n"
     ]
    }
   ],
   "source": [
    "inputs = tf.constant([[[1.0],  [2.0],  [3.0],  [4.0],  [5.0]],\n",
    "                      [[6.0],  [7.0],  [8.0],  [9.0],  [10.0]],\n",
    "                      [[11.0], [12.0], [13.0], [14.0], [15.0]],\n",
    "                      [[16.0], [17.0], [18.0], [19.0], [20.0]],\n",
    "                      [[21.0], [22.0], [23.0], [24.0], [25.0]]\n",
    "                     ])\n",
    "\n",
    "inputs = K.reshape(inputs,(-1,5,5,1))\n",
    "print(\"Shape of an Input:\", inputs.get_shape)\n",
    "\n",
    "\n",
    "result = K.batch_flatten(inputs)\n",
    "print(K.eval(result))\n"
   ]
  },
  {
   "cell_type": "markdown",
   "metadata": {
    "id": "xeqMaHMPyohs"
   },
   "source": [
    "# Dataset\n",
    "\n",
    "We will walk through building a CNN handwritten digits classifier using the MNIST which is one of the classical datasets for neural networks. <br>\n",
    "\n",
    "We use a pickled version of __MNIST data__ for Python. Use the load method to\n",
    "load the MNIST data. \n",
    "\n",
    "## <font color='red'>Tasks</font>\n",
    "- Please load the mnist data with Keras Loader"
   ]
  },
  {
   "cell_type": "code",
   "execution_count": 3,
   "metadata": {
    "id": "sk-AN_dwyoht"
   },
   "outputs": [],
   "source": [
    "from keras.datasets import mnist\n",
    "# Your code here, replace None with mnist data\n",
    "(X_train_orig, y_train_orig), (X_test_orig, y_test_orig) = mnist.load_data()"
   ]
  },
  {
   "cell_type": "markdown",
   "metadata": {
    "id": "4VYVCzZ7yohv"
   },
   "source": [
    "## Visualizing the dataset\n",
    "We will use __matplot library__ to display an image from the MNIST dataset. <br>\n",
    "`%matplotlib inline` will allow us to display this image directly in Jupyter Notebook cell. <br>\n",
    "Since we have __grayscale__ image, we need to specify that, while displaying it via `cmap='gray'`\n",
    "## <font color='red'>Task</font>\n",
    "- Please try to visualize more image data, so you can grasp what is in it"
   ]
  },
  {
   "cell_type": "code",
   "execution_count": 4,
   "metadata": {
    "id": "5zStjuHIyohw"
   },
   "outputs": [
    {
     "data": {
      "text/plain": [
       "<matplotlib.image.AxesImage at 0x7f85b4052150>"
      ]
     },
     "execution_count": 4,
     "metadata": {},
     "output_type": "execute_result"
    },
    {
     "data": {
      "image/png": "[encoded data removed]",
      "text/plain": [
       "<Figure size 432x288 with 1 Axes>"
      ]
     },
     "metadata": {
      "needs_background": "light"
     },
     "output_type": "display_data"
    }
   ],
   "source": [
    "from matplotlib import pyplot as plt\n",
    "%matplotlib inline\n",
    "\n",
    "plt.imshow(X_train_orig[0], cmap='gray')"
   ]
  },
  {
   "cell_type": "code",
   "execution_count": 9,
   "metadata": {
    "id": "QFMVC3S-oyI7"
   },
   "outputs": [
    {
     "data": {
      "text/plain": [
       "<matplotlib.image.AxesImage at 0x7fabf44c9310>"
      ]
     },
     "execution_count": 9,
     "metadata": {},
     "output_type": "execute_result"
    },
    {
     "data": {
      "image/png": "[encoded data removed]",
      "text/plain": [
       "<Figure size 432x288 with 1 Axes>"
      ]
     },
     "metadata": {
      "needs_background": "light"
     },
     "output_type": "display_data"
    }
   ],
   "source": [
    "# Your code here, try to plot another image, maybe X_train_orig[1] or other image you like\n",
    "plt.imshow(X_train_orig[1523], cmap='gray')"
   ]
  },
  {
   "cell_type": "code",
   "execution_count": 12,
   "metadata": {
    "id": "Djhb9544ra4b"
   },
   "outputs": [
    {
     "name": "stdout",
     "output_type": "stream",
     "text": [
      "[[  0   0   0   0   0   0   0   0   0   0   0   0   0   0   0   0   0   0\n",
      "    0   0   0   0   0   0   0   0   0   0]\n",
      " [  0   0   0   0   0   0   0   0   0   0   0   0   0   0   0   0   0   0\n",
      "    0   0   0   0   0   0   0   0   0   0]\n",
      " [  0   0   0   0   0   0   0   0   0   0   0   0   0   0   0   0   0   0\n",
      "    0   0   0   0   0   0   0   0   0   0]\n",
      " [  0   0   0   0   0   0   0   0   0   0   0   0   0   0   0   0   0   0\n",
      "    0   0   0   0   0   0   0   0   0   0]\n",
      " [  0   0   0   0   0   0   0   0   0   0   0   0   0   0   0   0   0   0\n",
      "    0   0   0   0   0   0   0   0   0   0]\n",
      " [  0   0   0   0   0   0   0   0   0   0   0   0   0   0   0   0   0   0\n",
      "    0   0   0   0   0   0   0   0   0   0]\n",
      " [  0   0   0   0   0   0   0   0   0   0   0   0   0   0   0   0   0   0\n",
      "    0   0   0   0   0   0   0   0   0   0]\n",
      " [  0   0   0   0   0   0   0   0   0   0   0   0   0   0   0   0  15  52\n",
      "  148 192 254 253 170   0   0   0   0   0]\n",
      " [  0   0   0   0   0   0   0   0   0   0   0   0   8 155 190 191 211 252\n",
      "  252 252 253 252  91   0   0   0   0   0]\n",
      " [  0   0   0   0   0   0   0   2  22 110 145 232 234 252 252 253 245 178\n",
      "  210 252 250 160   2   0   0   0   0   0]\n",
      " [  0   0   0   0   0   0   0 162 252 252 253 252 252 252 155  84  56   6\n",
      "  190 252 211   0   0   0   0   0   0   0]\n",
      " [  0   0   0   0   0   0  36 241 252 252 191 112  42  42   7   0   0  66\n",
      "  252 252 167   0   0   0   0   0   0   0]\n",
      " [  0   0   0   0   0   0  36 203 140  18   0   0   0   0   0   0   0 233\n",
      "  253 174   0   0   0   0   0   0   0   0]\n",
      " [  0   0   0   0   0   0   0   0   0   0   0   0   0   0   0   0 100 247\n",
      "  231  28   0   0   0   0   0   0   0   0]\n",
      " [  0   0   0   0   0   0   0   0   0   0   0   0   0   0   0  48 247 251\n",
      "   86   0   0   0   0   0   0   0   0   0]\n",
      " [  0   0   0   0   0   0   0   0   0   0   0   0   0   0  27 218 252 134\n",
      "    0   0   0   0   0   0   0   0   0   0]\n",
      " [  0   0   0   0   0   0   0   0   0   0   0   0   0   0 106 253 252  21\n",
      "    0   0   0   0   0   0   0   0   0   0]\n",
      " [  0   0   0   0   0   0   0   0   0   0   0   0   0  29 219 247  53   0\n",
      "    0   0   0   0   0   0   0   0   0   0]\n",
      " [  0   0   0   0   0   0   0   0   0   0   0   0  43 197 252 176   0   0\n",
      "    0   0   0   0   0   0   0   0   0   0]\n",
      " [  0   0   0   0   0   0   0   0   0   0   0   0 180 252 199   9   0   0\n",
      "    0   0   0   0   0   0   0   0   0   0]\n",
      " [  0   0   0   0   0   0   0   0   0   0  11 143 246 183  49   0   0   0\n",
      "    0   0   0   0   0   0   0   0   0   0]\n",
      " [  0   0   0   0   0   0   0   0   0   0 175 252 244  49   0   0   0   0\n",
      "    0   0   0   0   0   0   0   0   0   0]\n",
      " [  0   0   0   0   0   0   0   0   0 124 255 239  17   0   0   0   0   0\n",
      "    0   0   0   0   0   0   0   0   0   0]\n",
      " [  0   0   0   0   0   0   0   0  84 242 222  42   0   0   0   0   0   0\n",
      "    0   0   0   0   0   0   0   0   0   0]\n",
      " [  0   0   0   0   0   0   0  11 211 252  62   0   0   0   0   0   0   0\n",
      "    0   0   0   0   0   0   0   0   0   0]\n",
      " [  0   0   0   0   0   0   0 162 252 182   0   0   0   0   0   0   0   0\n",
      "    0   0   0   0   0   0   0   0   0   0]\n",
      " [  0   0   0   0   0   0   0 232 252 103   0   0   0   0   0   0   0   0\n",
      "    0   0   0   0   0   0   0   0   0   0]\n",
      " [  0   0   0   0   0   0   0   0   0   0   0   0   0   0   0   0   0   0\n",
      "    0   0   0   0   0   0   0   0   0   0]]\n",
      "(28, 28)\n"
     ]
    }
   ],
   "source": [
    "# Try to print the raw value from data, to see what is it like\n",
    "print(X_train_orig[1523])\n",
    "# Try to print the size a image, so you might know how it looks numerically\n",
    "print(X_train_orig[1523].shape)"
   ]
  },
  {
   "cell_type": "markdown",
   "metadata": {
    "id": "rosLmrd4yohx"
   },
   "source": [
    "# Shaping dataset\n",
    "\n",
    "## Images\n",
    "Currently, the X part of dataset is in form `(number_of_samples, px_width, px_height)` <br>\n",
    "There is one implied information about the dataset, but we need to directly specify it. This information is regarding number of channels per image. Since MNIST dataset is only greyscale, we need to specify it in the dimensionality of the dataset.\n",
    "Therefore, we need to convert it from `(60000, 28, 28)` to `(60000,28,28,1)`, where `1` stands for greyscale. <br>\n",
    "If we had an RGB image, the shape of the dataset would look like this `(60000,28,28,3)`"
   ]
  },
  {
   "cell_type": "code",
   "execution_count": 5,
   "metadata": {
    "id": "cPL8UqHuyohy"
   },
   "outputs": [],
   "source": [
    "X_train = X_train_orig.reshape(60000,28,28,1)\n",
    "X_test = X_test_orig.reshape(10000,28,28,1)"
   ]
  },
  {
   "cell_type": "markdown",
   "metadata": {
    "id": "-xkIR7OByohz"
   },
   "source": [
    "## Labels\n",
    "\n",
    "Label for each image is in form of an __integer__ ranging from 0 to 9. <br>\n",
    "We can use a __one hot encoding__ to transform them into a __binary matrix__. We know there are 10\n",
    "classes for this problem, so we can expect the binary matrix to have a width\n",
    "of 10.\n",
    "\n",
    "### Converting labels to one-hot representation\n",
    "y_train_orig[0] <b>before</b> conversion is <b>[5]</b> <br>\n",
    "y_train_orig[0] <b>after</b> conversion is <b>[0. 0. 0. 0. 0. 1. 0. 0. 0. 0.]</b>"
   ]
  },
  {
   "cell_type": "code",
   "execution_count": 14,
   "metadata": {
    "id": "nfSr-xokyohz"
   },
   "outputs": [
    {
     "name": "stdout",
     "output_type": "stream",
     "text": [
      "5\n"
     ]
    }
   ],
   "source": [
    "print(y_train_orig[0])"
   ]
  },
  {
   "cell_type": "code",
   "execution_count": 6,
   "metadata": {
    "id": "5YpOp9q-yoh1"
   },
   "outputs": [
    {
     "data": {
      "text/plain": [
       "array([0., 0., 0., 0., 0., 1., 0., 0., 0., 0.], dtype=float32)"
      ]
     },
     "execution_count": 6,
     "metadata": {},
     "output_type": "execute_result"
    }
   ],
   "source": [
    "from keras.utils import to_categorical\n",
    "to_categorical(y_train_orig[0], 10)\n"
   ]
  },
  {
   "cell_type": "markdown",
   "metadata": {
    "id": "v_5DZaa7ryVw"
   },
   "source": [
    "## <font color='red'>Task</font>\n",
    "- If we want to convert `y_train_orig` to **20** class representation\n",
    "  - what we need to do?\n",
    "  - What happen if we convert a 10 class label into 20 class one-hot?\n",
    "  - What happen if we convert a 10 class label into 2 class one-hot?"
   ]
  },
  {
   "cell_type": "code",
   "execution_count": 7,
   "metadata": {
    "id": "KhQL3Uo4sBH1"
   },
   "outputs": [
    {
     "data": {
      "text/plain": [
       "array([0., 0., 0., 0., 0., 1., 0., 0., 0., 0., 0., 0., 0., 0., 0., 0., 0.,\n",
       "       0., 0., 0.], dtype=float32)"
      ]
     },
     "execution_count": 7,
     "metadata": {},
     "output_type": "execute_result"
    }
   ],
   "source": [
    "# Convert y_train_orig to 20 classes one-hot representation\n",
    "to_categorical(y_train_orig[0], 20)"
   ]
  },
  {
   "cell_type": "code",
   "execution_count": 8,
   "metadata": {},
   "outputs": [
    {
     "ename": "IndexError",
     "evalue": "index 5 is out of bounds for axis 1 with size 2",
     "output_type": "error",
     "traceback": [
      "\u001b[0;31m---------------------------------------------------------------------------\u001b[0m",
      "\u001b[0;31mIndexError\u001b[0m                                Traceback (most recent call last)",
      "\u001b[0;32m<ipython-input-8-698ce574cbb0>\u001b[0m in \u001b[0;36m<module>\u001b[0;34m\u001b[0m\n\u001b[0;32m----> 1\u001b[0;31m \u001b[0mto_categorical\u001b[0m\u001b[0;34m(\u001b[0m\u001b[0my_train_orig\u001b[0m\u001b[0;34m[\u001b[0m\u001b[0;36m0\u001b[0m\u001b[0;34m]\u001b[0m\u001b[0;34m,\u001b[0m \u001b[0;36m2\u001b[0m\u001b[0;34m)\u001b[0m\u001b[0;34m\u001b[0m\u001b[0;34m\u001b[0m\u001b[0m\n\u001b[0m",
      "\u001b[0;32m~/anaconda3/envs/padchest/lib/python3.7/site-packages/keras/utils/np_utils.py\u001b[0m in \u001b[0;36mto_categorical\u001b[0;34m(y, num_classes, dtype)\u001b[0m\n\u001b[1;32m     32\u001b[0m     \u001b[0mn\u001b[0m \u001b[0;34m=\u001b[0m \u001b[0my\u001b[0m\u001b[0;34m.\u001b[0m\u001b[0mshape\u001b[0m\u001b[0;34m[\u001b[0m\u001b[0;36m0\u001b[0m\u001b[0;34m]\u001b[0m\u001b[0;34m\u001b[0m\u001b[0;34m\u001b[0m\u001b[0m\n\u001b[1;32m     33\u001b[0m     \u001b[0mcategorical\u001b[0m \u001b[0;34m=\u001b[0m \u001b[0mnp\u001b[0m\u001b[0;34m.\u001b[0m\u001b[0mzeros\u001b[0m\u001b[0;34m(\u001b[0m\u001b[0;34m(\u001b[0m\u001b[0mn\u001b[0m\u001b[0;34m,\u001b[0m \u001b[0mnum_classes\u001b[0m\u001b[0;34m)\u001b[0m\u001b[0;34m,\u001b[0m \u001b[0mdtype\u001b[0m\u001b[0;34m=\u001b[0m\u001b[0mdtype\u001b[0m\u001b[0;34m)\u001b[0m\u001b[0;34m\u001b[0m\u001b[0;34m\u001b[0m\u001b[0m\n\u001b[0;32m---> 34\u001b[0;31m     \u001b[0mcategorical\u001b[0m\u001b[0;34m[\u001b[0m\u001b[0mnp\u001b[0m\u001b[0;34m.\u001b[0m\u001b[0marange\u001b[0m\u001b[0;34m(\u001b[0m\u001b[0mn\u001b[0m\u001b[0;34m)\u001b[0m\u001b[0;34m,\u001b[0m \u001b[0my\u001b[0m\u001b[0;34m]\u001b[0m \u001b[0;34m=\u001b[0m \u001b[0;36m1\u001b[0m\u001b[0;34m\u001b[0m\u001b[0;34m\u001b[0m\u001b[0m\n\u001b[0m\u001b[1;32m     35\u001b[0m     \u001b[0moutput_shape\u001b[0m \u001b[0;34m=\u001b[0m \u001b[0minput_shape\u001b[0m \u001b[0;34m+\u001b[0m \u001b[0;34m(\u001b[0m\u001b[0mnum_classes\u001b[0m\u001b[0;34m,\u001b[0m\u001b[0;34m)\u001b[0m\u001b[0;34m\u001b[0m\u001b[0;34m\u001b[0m\u001b[0m\n\u001b[1;32m     36\u001b[0m     \u001b[0mcategorical\u001b[0m \u001b[0;34m=\u001b[0m \u001b[0mnp\u001b[0m\u001b[0;34m.\u001b[0m\u001b[0mreshape\u001b[0m\u001b[0;34m(\u001b[0m\u001b[0mcategorical\u001b[0m\u001b[0;34m,\u001b[0m \u001b[0moutput_shape\u001b[0m\u001b[0;34m)\u001b[0m\u001b[0;34m\u001b[0m\u001b[0;34m\u001b[0m\u001b[0m\n",
      "\u001b[0;31mIndexError\u001b[0m: index 5 is out of bounds for axis 1 with size 2"
     ]
    }
   ],
   "source": [
    "to_categorical(y_train_orig[0], 2)"
   ]
  },
  {
   "cell_type": "markdown",
   "metadata": {
    "id": "KgPHFy_eyoh2"
   },
   "source": [
    "### Converting all labels to one-hot matrix\n",
    "We will use the same `to_categorical` function to convert the whole dataset into matrix of one-hot encodings.\n",
    "\n",
    "#### <font color='red'>Task</font>\n",
    "1) What is the shape of newly created dataset? <br>\n",
    "2) [Optional] Instead of pre-made `to_categorical` function, can you code your own with same functionality?"
   ]
  },
  {
   "cell_type": "code",
   "execution_count": 9,
   "metadata": {
    "id": "_QmtRZvLyoh2"
   },
   "outputs": [
    {
     "name": "stdout",
     "output_type": "stream",
     "text": [
      "(60000, 10)\n",
      "(10000, 10)\n"
     ]
    }
   ],
   "source": [
    "y_train = to_categorical(y_train_orig)\n",
    "print(y_train.shape)\n",
    "y_test = to_categorical(y_test_orig)\n",
    "print(y_test.shape)"
   ]
  },
  {
   "cell_type": "code",
   "execution_count": 7,
   "metadata": {},
   "outputs": [
    {
     "ename": "IndentationError",
     "evalue": "expected an indented block (<ipython-input-7-551af0f56730>, line 6)",
     "output_type": "error",
     "traceback": [
      "\u001b[0;36m  File \u001b[0;32m\"<ipython-input-7-551af0f56730>\"\u001b[0;36m, line \u001b[0;32m6\u001b[0m\n\u001b[0;31m    input_shape = tuple(input_shape[:-1])\u001b[0m\n\u001b[0m              ^\u001b[0m\n\u001b[0;31mIndentationError\u001b[0m\u001b[0;31m:\u001b[0m expected an indented block\n"
     ]
    }
   ],
   "source": [
    "## Custom to_categorical function\n",
    "def to_categorical(y, num_classes=None, dtype='float32'):\n",
    "    y = np.array(y, dtype='int')\n",
    "    input_shape = y.shape\n",
    "    if input_shape and input_shape[-1] == 1 and len(input_shape) > 1:\n",
    "    input_shape = tuple(input_shape[:-1])\n",
    "    y = y.ravel()\n",
    "    if not num_classes:\n",
    "    num_classes = np.max(y) + 1\n",
    "    n = y.shape[0]\n",
    "    categorical = np.zeros((n, num_classes), dtype=dtype)\n",
    "    categorical[np.arange(n), y] = 1\n",
    "    output_shape = input_shape + (num_classes,)\n",
    "    categorical = np.reshape(categorical, output_shape)\n",
    "    return categorical"
   ]
  },
  {
   "cell_type": "markdown",
   "metadata": {
    "id": "ijrxqSVzyoh3"
   },
   "source": [
    "# Building the model\n",
    "In this section we will combine previously demonstrated mechanisms into one system. <br>\n",
    "\n",
    "For this very simple model, we will be using `Conv2D`, `Flatten` and `Dense` layers.\n",
    "\n"
   ]
  },
  {
   "cell_type": "code",
   "execution_count": 10,
   "metadata": {
    "id": "cIuFd9mTyoh4"
   },
   "outputs": [],
   "source": [
    "from tensorflow.keras.models import Sequential\n",
    "from tensorflow.keras.layers import Dense, Conv2D, Flatten\n",
    "\n",
    "def create_model():\n",
    "    model = Sequential()\n",
    "    model.add(Conv2D(64, kernel_size=3, activation=\"relu\", input_shape=(28,28,1)))\n",
    "    model.add(Conv2D(32, kernel_size=3, activation=\"relu\"))\n",
    "    model.add(Flatten())\n",
    "    model.add(Dense(10, activation=\"softmax\"))\n",
    "    \n",
    "    return model"
   ]
  },
  {
   "cell_type": "code",
   "execution_count": 11,
   "metadata": {
    "id": "wf0bR7ZCyoh5"
   },
   "outputs": [
    {
     "name": "stdout",
     "output_type": "stream",
     "text": [
      "Train on 60000 samples, validate on 10000 samples\n",
      "Epoch 1/3\n",
      "60000/60000 [==============================] - 6s 96us/sample - loss: 0.2426 - accuracy: 0.9482 - val_loss: 0.0908 - val_accuracy: 0.9716\n",
      "Epoch 2/3\n",
      "60000/60000 [==============================] - 3s 48us/sample - loss: 0.0619 - accuracy: 0.9813 - val_loss: 0.1025 - val_accuracy: 0.9675\n",
      "Epoch 3/3\n",
      "60000/60000 [==============================] - 3s 47us/sample - loss: 0.0422 - accuracy: 0.9868 - val_loss: 0.0848 - val_accuracy: 0.9763\n"
     ]
    },
    {
     "data": {
      "text/plain": [
       "<tensorflow.python.keras.callbacks.History at 0x7f8594360210>"
      ]
     },
     "execution_count": 11,
     "metadata": {},
     "output_type": "execute_result"
    }
   ],
   "source": [
    "model = create_model()\n",
    "model.compile(optimizer='adam', loss='categorical_crossentropy', metrics=['accuracy'])\n",
    "model.fit(X_train, y_train, validation_data=(X_test, y_test), epochs=3, batch_size=64)"
   ]
  },
  {
   "cell_type": "markdown",
   "metadata": {
    "id": "3qmw5Hhyyoh6"
   },
   "source": [
    "## Data Normalization\n",
    "Though we can observe that the neural network is learning, the rate is __very slow__ and __learning rate deteriorates very quickly__. <br>\n",
    "This behaviour is due to extreme differences between `max` (255) and `min` (0) values of our dataset. <br>\n",
    "Neural networks are performing __best when dataset ranges from 0 to 1__, or in some cases -1 to 1. <br>\n",
    "Since we can imagine these values as signal strength, very high values, such as 255, are way too overpowering and strengthening non-optimal paths too quickly. <br>\n",
    "Therefore we need to divide our training and testing dataset by 255 to get values ranging from 0 to 1. \n"
   ]
  },
  {
   "cell_type": "code",
   "execution_count": 12,
   "metadata": {
    "id": "KtcCvFS_yoh6"
   },
   "outputs": [],
   "source": [
    "X_train = X_train/255\n",
    "X_test = X_test/255"
   ]
  },
  {
   "cell_type": "markdown",
   "metadata": {
    "id": "Mcv3HyKjyoh7"
   },
   "source": [
    "## Training on Normalized dataset\n",
    "We will generate a new model and train it on normalized dataset. <br>\n"
   ]
  },
  {
   "cell_type": "code",
   "execution_count": 13,
   "metadata": {
    "id": "EbhdHrB_yoh7"
   },
   "outputs": [
    {
     "name": "stdout",
     "output_type": "stream",
     "text": [
      "Train on 60000 samples, validate on 10000 samples\n",
      "Epoch 1/4\n",
      "60000/60000 [==============================] - 5s 77us/sample - loss: 0.1506 - accuracy: 0.9549 - val_loss: 0.0617 - val_accuracy: 0.9812\n",
      "Epoch 2/4\n",
      "60000/60000 [==============================] - 4s 60us/sample - loss: 0.0530 - accuracy: 0.9841 - val_loss: 0.0524 - val_accuracy: 0.9818\n",
      "Epoch 3/4\n",
      "60000/60000 [==============================] - 3s 51us/sample - loss: 0.0350 - accuracy: 0.9893 - val_loss: 0.0442 - val_accuracy: 0.9858\n",
      "Epoch 4/4\n",
      "60000/60000 [==============================] - 3s 53us/sample - loss: 0.0242 - accuracy: 0.9925 - val_loss: 0.0443 - val_accuracy: 0.9859\n"
     ]
    },
    {
     "data": {
      "text/plain": [
       "<tensorflow.python.keras.callbacks.History at 0x7f8594171150>"
      ]
     },
     "execution_count": 13,
     "metadata": {},
     "output_type": "execute_result"
    }
   ],
   "source": [
    "model = create_model()\n",
    "model.compile(optimizer='adam', loss='categorical_crossentropy', metrics=['accuracy'])\n",
    "model.fit(X_train, y_train, validation_data=(X_test, y_test), epochs=4, batch_size=64)"
   ]
  },
  {
   "cell_type": "markdown",
   "metadata": {
    "id": "02HPQHUpyoh9"
   },
   "source": [
    "# Saving the model\n",
    "\n",
    "You can use `model.save(filepath)` to save a Keras model into a single HDF5 file which will contain:\n",
    "\n",
    "- the architecture of the model, allowing to re-create the model\n",
    "- the weights of the model\n",
    "- the training configuration (loss, optimizer)\n",
    "- the state of the optimizer, allowing to resume training exactly where you left off.\n",
    "\n",
    "You can then use `keras.models.load_model(filepath)` to re-instantiate your model. `load_model` will also take care of compiling the model using the saved training configuration.\n",
    "\n",
    "Clicking the folder icon ![image.png](data:image/png;base64,iVBORw0KGgoAAAANSUhEUgAAABUAAAAVCAYAAACpF6WWAAAAiUlEQVQ4je3TsQ0DIQyF4Vv17UDtmklo3XsHarODa2qnyikS+HSckiIST/pLvgLJh/9gx0bPmZm31oZ6789QM3MA04hoCT5RZg5RAJ5S8pzztFLKNUpE4eNZROQAvNYao6q69H+q6gCcmTe60RkqItNTjRKRGL060zuZ2Yi+YVVd7hMc0G/tf9AXcKBAsT6KvzEAAAAASUVORK5CYII=) to the left shows the notebook's file browser."
   ]
  },
  {
   "cell_type": "code",
   "execution_count": 14,
   "metadata": {
    "id": "YQ2ZQ6fsyoh9"
   },
   "outputs": [],
   "source": [
    "model.save('my_model.h5') "
   ]
  },
  {
   "cell_type": "markdown",
   "metadata": {
    "id": "-oSrewn6yoh_"
   },
   "source": [
    "## Predicting custom images\n",
    "You can use model you created to classify any image you want, but it is important that you pre-process the image correctly before inputting it into the model. <br>\n",
    "In following code, we take a random (100th) image from testing dataset and classify it. <br>\n",
    "All inputs to our network have to have same shape structure `(batch_size, width, height, channels)`. <br>\n",
    "Since we want to predict only one image, our batch_size has to be 1. "
   ]
  },
  {
   "cell_type": "code",
   "execution_count": 15,
   "metadata": {
    "id": "P4WIJoh5yoiA"
   },
   "outputs": [
    {
     "name": "stdout",
     "output_type": "stream",
     "text": [
      "(28, 28)\n",
      "(1, 28, 28, 1)\n"
     ]
    },
    {
     "ename": "ValueError",
     "evalue": "Unknown initializer: GlorotUniform",
     "output_type": "error",
     "traceback": [
      "\u001b[0;31m---------------------------------------------------------------------------\u001b[0m",
      "\u001b[0;31mValueError\u001b[0m                                Traceback (most recent call last)",
      "\u001b[0;32m<ipython-input-15-8153991f6f2c>\u001b[0m in \u001b[0;36m<module>\u001b[0;34m\u001b[0m\n\u001b[1;32m     18\u001b[0m \u001b[0mtest_image\u001b[0m \u001b[0;34m=\u001b[0m \u001b[0mtest_image\u001b[0m\u001b[0;34m/\u001b[0m\u001b[0;36m255\u001b[0m\u001b[0;34m\u001b[0m\u001b[0;34m\u001b[0m\u001b[0m\n\u001b[1;32m     19\u001b[0m \u001b[0;34m\u001b[0m\u001b[0m\n\u001b[0;32m---> 20\u001b[0;31m \u001b[0mmodel\u001b[0m \u001b[0;34m=\u001b[0m \u001b[0mload_model\u001b[0m\u001b[0;34m(\u001b[0m\u001b[0;34m'my_model.h5'\u001b[0m\u001b[0;34m)\u001b[0m\u001b[0;34m\u001b[0m\u001b[0;34m\u001b[0m\u001b[0m\n\u001b[0m\u001b[1;32m     21\u001b[0m \u001b[0;31m# Classify selected image using our model\u001b[0m\u001b[0;34m\u001b[0m\u001b[0;34m\u001b[0m\u001b[0;34m\u001b[0m\u001b[0m\n\u001b[1;32m     22\u001b[0m \u001b[0mprediction\u001b[0m \u001b[0;34m=\u001b[0m \u001b[0mmodel\u001b[0m\u001b[0;34m.\u001b[0m\u001b[0mpredict\u001b[0m\u001b[0;34m(\u001b[0m\u001b[0mtest_image\u001b[0m\u001b[0;34m)\u001b[0m\u001b[0;34m[\u001b[0m\u001b[0;36m0\u001b[0m\u001b[0;34m]\u001b[0m\u001b[0;34m\u001b[0m\u001b[0;34m\u001b[0m\u001b[0m\n",
      "\u001b[0;32m~/anaconda3/envs/padchest/lib/python3.7/site-packages/keras/engine/saving.py\u001b[0m in \u001b[0;36mload_model\u001b[0;34m(filepath, custom_objects, compile)\u001b[0m\n\u001b[1;32m    417\u001b[0m     \u001b[0mf\u001b[0m \u001b[0;34m=\u001b[0m \u001b[0mh5dict\u001b[0m\u001b[0;34m(\u001b[0m\u001b[0mfilepath\u001b[0m\u001b[0;34m,\u001b[0m \u001b[0;34m'r'\u001b[0m\u001b[0;34m)\u001b[0m\u001b[0;34m\u001b[0m\u001b[0;34m\u001b[0m\u001b[0m\n\u001b[1;32m    418\u001b[0m     \u001b[0;32mtry\u001b[0m\u001b[0;34m:\u001b[0m\u001b[0;34m\u001b[0m\u001b[0;34m\u001b[0m\u001b[0m\n\u001b[0;32m--> 419\u001b[0;31m         \u001b[0mmodel\u001b[0m \u001b[0;34m=\u001b[0m \u001b[0m_deserialize_model\u001b[0m\u001b[0;34m(\u001b[0m\u001b[0mf\u001b[0m\u001b[0;34m,\u001b[0m \u001b[0mcustom_objects\u001b[0m\u001b[0;34m,\u001b[0m \u001b[0mcompile\u001b[0m\u001b[0;34m)\u001b[0m\u001b[0;34m\u001b[0m\u001b[0;34m\u001b[0m\u001b[0m\n\u001b[0m\u001b[1;32m    420\u001b[0m     \u001b[0;32mfinally\u001b[0m\u001b[0;34m:\u001b[0m\u001b[0;34m\u001b[0m\u001b[0;34m\u001b[0m\u001b[0m\n\u001b[1;32m    421\u001b[0m         \u001b[0;32mif\u001b[0m \u001b[0mopened_new_file\u001b[0m\u001b[0;34m:\u001b[0m\u001b[0;34m\u001b[0m\u001b[0;34m\u001b[0m\u001b[0m\n",
      "\u001b[0;32m~/anaconda3/envs/padchest/lib/python3.7/site-packages/keras/engine/saving.py\u001b[0m in \u001b[0;36m_deserialize_model\u001b[0;34m(f, custom_objects, compile)\u001b[0m\n\u001b[1;32m    223\u001b[0m         \u001b[0;32mraise\u001b[0m \u001b[0mValueError\u001b[0m\u001b[0;34m(\u001b[0m\u001b[0;34m'No model found in config.'\u001b[0m\u001b[0;34m)\u001b[0m\u001b[0;34m\u001b[0m\u001b[0;34m\u001b[0m\u001b[0m\n\u001b[1;32m    224\u001b[0m     \u001b[0mmodel_config\u001b[0m \u001b[0;34m=\u001b[0m \u001b[0mjson\u001b[0m\u001b[0;34m.\u001b[0m\u001b[0mloads\u001b[0m\u001b[0;34m(\u001b[0m\u001b[0mmodel_config\u001b[0m\u001b[0;34m.\u001b[0m\u001b[0mdecode\u001b[0m\u001b[0;34m(\u001b[0m\u001b[0;34m'utf-8'\u001b[0m\u001b[0;34m)\u001b[0m\u001b[0;34m)\u001b[0m\u001b[0;34m\u001b[0m\u001b[0;34m\u001b[0m\u001b[0m\n\u001b[0;32m--> 225\u001b[0;31m     \u001b[0mmodel\u001b[0m \u001b[0;34m=\u001b[0m \u001b[0mmodel_from_config\u001b[0m\u001b[0;34m(\u001b[0m\u001b[0mmodel_config\u001b[0m\u001b[0;34m,\u001b[0m \u001b[0mcustom_objects\u001b[0m\u001b[0;34m=\u001b[0m\u001b[0mcustom_objects\u001b[0m\u001b[0;34m)\u001b[0m\u001b[0;34m\u001b[0m\u001b[0;34m\u001b[0m\u001b[0m\n\u001b[0m\u001b[1;32m    226\u001b[0m     \u001b[0mmodel_weights_group\u001b[0m \u001b[0;34m=\u001b[0m \u001b[0mf\u001b[0m\u001b[0;34m[\u001b[0m\u001b[0;34m'model_weights'\u001b[0m\u001b[0;34m]\u001b[0m\u001b[0;34m\u001b[0m\u001b[0;34m\u001b[0m\u001b[0m\n\u001b[1;32m    227\u001b[0m \u001b[0;34m\u001b[0m\u001b[0m\n",
      "\u001b[0;32m~/anaconda3/envs/padchest/lib/python3.7/site-packages/keras/engine/saving.py\u001b[0m in \u001b[0;36mmodel_from_config\u001b[0;34m(config, custom_objects)\u001b[0m\n\u001b[1;32m    456\u001b[0m                         '`Sequential.from_config(config)`?')\n\u001b[1;32m    457\u001b[0m     \u001b[0;32mfrom\u001b[0m \u001b[0;34m.\u001b[0m\u001b[0;34m.\u001b[0m\u001b[0mlayers\u001b[0m \u001b[0;32mimport\u001b[0m \u001b[0mdeserialize\u001b[0m\u001b[0;34m\u001b[0m\u001b[0;34m\u001b[0m\u001b[0m\n\u001b[0;32m--> 458\u001b[0;31m     \u001b[0;32mreturn\u001b[0m \u001b[0mdeserialize\u001b[0m\u001b[0;34m(\u001b[0m\u001b[0mconfig\u001b[0m\u001b[0;34m,\u001b[0m \u001b[0mcustom_objects\u001b[0m\u001b[0;34m=\u001b[0m\u001b[0mcustom_objects\u001b[0m\u001b[0;34m)\u001b[0m\u001b[0;34m\u001b[0m\u001b[0;34m\u001b[0m\u001b[0m\n\u001b[0m\u001b[1;32m    459\u001b[0m \u001b[0;34m\u001b[0m\u001b[0m\n\u001b[1;32m    460\u001b[0m \u001b[0;34m\u001b[0m\u001b[0m\n",
      "\u001b[0;32m~/anaconda3/envs/padchest/lib/python3.7/site-packages/keras/layers/__init__.py\u001b[0m in \u001b[0;36mdeserialize\u001b[0;34m(config, custom_objects)\u001b[0m\n\u001b[1;32m     53\u001b[0m                                     \u001b[0mmodule_objects\u001b[0m\u001b[0;34m=\u001b[0m\u001b[0mglobs\u001b[0m\u001b[0;34m,\u001b[0m\u001b[0;34m\u001b[0m\u001b[0;34m\u001b[0m\u001b[0m\n\u001b[1;32m     54\u001b[0m                                     \u001b[0mcustom_objects\u001b[0m\u001b[0;34m=\u001b[0m\u001b[0mcustom_objects\u001b[0m\u001b[0;34m,\u001b[0m\u001b[0;34m\u001b[0m\u001b[0;34m\u001b[0m\u001b[0m\n\u001b[0;32m---> 55\u001b[0;31m                                     printable_module_name='layer')\n\u001b[0m",
      "\u001b[0;32m~/anaconda3/envs/padchest/lib/python3.7/site-packages/keras/utils/generic_utils.py\u001b[0m in \u001b[0;36mdeserialize_keras_object\u001b[0;34m(identifier, module_objects, custom_objects, printable_module_name)\u001b[0m\n\u001b[1;32m    143\u001b[0m                     \u001b[0mconfig\u001b[0m\u001b[0;34m[\u001b[0m\u001b[0;34m'config'\u001b[0m\u001b[0;34m]\u001b[0m\u001b[0;34m,\u001b[0m\u001b[0;34m\u001b[0m\u001b[0;34m\u001b[0m\u001b[0m\n\u001b[1;32m    144\u001b[0m                     custom_objects=dict(list(_GLOBAL_CUSTOM_OBJECTS.items()) +\n\u001b[0;32m--> 145\u001b[0;31m                                         list(custom_objects.items())))\n\u001b[0m\u001b[1;32m    146\u001b[0m             \u001b[0;32mwith\u001b[0m \u001b[0mCustomObjectScope\u001b[0m\u001b[0;34m(\u001b[0m\u001b[0mcustom_objects\u001b[0m\u001b[0;34m)\u001b[0m\u001b[0;34m:\u001b[0m\u001b[0;34m\u001b[0m\u001b[0;34m\u001b[0m\u001b[0m\n\u001b[1;32m    147\u001b[0m                 \u001b[0;32mreturn\u001b[0m \u001b[0mcls\u001b[0m\u001b[0;34m.\u001b[0m\u001b[0mfrom_config\u001b[0m\u001b[0;34m(\u001b[0m\u001b[0mconfig\u001b[0m\u001b[0;34m[\u001b[0m\u001b[0;34m'config'\u001b[0m\u001b[0;34m]\u001b[0m\u001b[0;34m)\u001b[0m\u001b[0;34m\u001b[0m\u001b[0;34m\u001b[0m\u001b[0m\n",
      "\u001b[0;32m~/anaconda3/envs/padchest/lib/python3.7/site-packages/keras/engine/sequential.py\u001b[0m in \u001b[0;36mfrom_config\u001b[0;34m(cls, config, custom_objects)\u001b[0m\n\u001b[1;32m    298\u001b[0m         \u001b[0;32mfor\u001b[0m \u001b[0mconf\u001b[0m \u001b[0;32min\u001b[0m \u001b[0mlayer_configs\u001b[0m\u001b[0;34m:\u001b[0m\u001b[0;34m\u001b[0m\u001b[0;34m\u001b[0m\u001b[0m\n\u001b[1;32m    299\u001b[0m             layer = layer_module.deserialize(conf,\n\u001b[0;32m--> 300\u001b[0;31m                                              custom_objects=custom_objects)\n\u001b[0m\u001b[1;32m    301\u001b[0m             \u001b[0mmodel\u001b[0m\u001b[0;34m.\u001b[0m\u001b[0madd\u001b[0m\u001b[0;34m(\u001b[0m\u001b[0mlayer\u001b[0m\u001b[0;34m)\u001b[0m\u001b[0;34m\u001b[0m\u001b[0;34m\u001b[0m\u001b[0m\n\u001b[1;32m    302\u001b[0m         \u001b[0;32mif\u001b[0m \u001b[0;32mnot\u001b[0m \u001b[0mmodel\u001b[0m\u001b[0;34m.\u001b[0m\u001b[0minputs\u001b[0m \u001b[0;32mand\u001b[0m \u001b[0mbuild_input_shape\u001b[0m\u001b[0;34m:\u001b[0m\u001b[0;34m\u001b[0m\u001b[0;34m\u001b[0m\u001b[0m\n",
      "\u001b[0;32m~/anaconda3/envs/padchest/lib/python3.7/site-packages/keras/layers/__init__.py\u001b[0m in \u001b[0;36mdeserialize\u001b[0;34m(config, custom_objects)\u001b[0m\n\u001b[1;32m     53\u001b[0m                                     \u001b[0mmodule_objects\u001b[0m\u001b[0;34m=\u001b[0m\u001b[0mglobs\u001b[0m\u001b[0;34m,\u001b[0m\u001b[0;34m\u001b[0m\u001b[0;34m\u001b[0m\u001b[0m\n\u001b[1;32m     54\u001b[0m                                     \u001b[0mcustom_objects\u001b[0m\u001b[0;34m=\u001b[0m\u001b[0mcustom_objects\u001b[0m\u001b[0;34m,\u001b[0m\u001b[0;34m\u001b[0m\u001b[0;34m\u001b[0m\u001b[0m\n\u001b[0;32m---> 55\u001b[0;31m                                     printable_module_name='layer')\n\u001b[0m",
      "\u001b[0;32m~/anaconda3/envs/padchest/lib/python3.7/site-packages/keras/utils/generic_utils.py\u001b[0m in \u001b[0;36mdeserialize_keras_object\u001b[0;34m(identifier, module_objects, custom_objects, printable_module_name)\u001b[0m\n\u001b[1;32m    145\u001b[0m                                         list(custom_objects.items())))\n\u001b[1;32m    146\u001b[0m             \u001b[0;32mwith\u001b[0m \u001b[0mCustomObjectScope\u001b[0m\u001b[0;34m(\u001b[0m\u001b[0mcustom_objects\u001b[0m\u001b[0;34m)\u001b[0m\u001b[0;34m:\u001b[0m\u001b[0;34m\u001b[0m\u001b[0;34m\u001b[0m\u001b[0m\n\u001b[0;32m--> 147\u001b[0;31m                 \u001b[0;32mreturn\u001b[0m \u001b[0mcls\u001b[0m\u001b[0;34m.\u001b[0m\u001b[0mfrom_config\u001b[0m\u001b[0;34m(\u001b[0m\u001b[0mconfig\u001b[0m\u001b[0;34m[\u001b[0m\u001b[0;34m'config'\u001b[0m\u001b[0;34m]\u001b[0m\u001b[0;34m)\u001b[0m\u001b[0;34m\u001b[0m\u001b[0;34m\u001b[0m\u001b[0m\n\u001b[0m\u001b[1;32m    148\u001b[0m         \u001b[0;32melse\u001b[0m\u001b[0;34m:\u001b[0m\u001b[0;34m\u001b[0m\u001b[0;34m\u001b[0m\u001b[0m\n\u001b[1;32m    149\u001b[0m             \u001b[0;31m# Then `cls` may be a function returning a class.\u001b[0m\u001b[0;34m\u001b[0m\u001b[0;34m\u001b[0m\u001b[0;34m\u001b[0m\u001b[0m\n",
      "\u001b[0;32m~/anaconda3/envs/padchest/lib/python3.7/site-packages/keras/engine/base_layer.py\u001b[0m in \u001b[0;36mfrom_config\u001b[0;34m(cls, config)\u001b[0m\n\u001b[1;32m   1107\u001b[0m             \u001b[0mA\u001b[0m \u001b[0mlayer\u001b[0m \u001b[0minstance\u001b[0m\u001b[0;34m.\u001b[0m\u001b[0;34m\u001b[0m\u001b[0;34m\u001b[0m\u001b[0m\n\u001b[1;32m   1108\u001b[0m         \"\"\"\n\u001b[0;32m-> 1109\u001b[0;31m         \u001b[0;32mreturn\u001b[0m \u001b[0mcls\u001b[0m\u001b[0;34m(\u001b[0m\u001b[0;34m**\u001b[0m\u001b[0mconfig\u001b[0m\u001b[0;34m)\u001b[0m\u001b[0;34m\u001b[0m\u001b[0;34m\u001b[0m\u001b[0m\n\u001b[0m\u001b[1;32m   1110\u001b[0m \u001b[0;34m\u001b[0m\u001b[0m\n\u001b[1;32m   1111\u001b[0m     \u001b[0;32mdef\u001b[0m \u001b[0mcount_params\u001b[0m\u001b[0;34m(\u001b[0m\u001b[0mself\u001b[0m\u001b[0;34m)\u001b[0m\u001b[0;34m:\u001b[0m\u001b[0;34m\u001b[0m\u001b[0;34m\u001b[0m\u001b[0m\n",
      "\u001b[0;32m~/anaconda3/envs/padchest/lib/python3.7/site-packages/keras/legacy/interfaces.py\u001b[0m in \u001b[0;36mwrapper\u001b[0;34m(*args, **kwargs)\u001b[0m\n\u001b[1;32m     89\u001b[0m                 warnings.warn('Update your `' + object_name + '` call to the ' +\n\u001b[1;32m     90\u001b[0m                               'Keras 2 API: ' + signature, stacklevel=2)\n\u001b[0;32m---> 91\u001b[0;31m             \u001b[0;32mreturn\u001b[0m \u001b[0mfunc\u001b[0m\u001b[0;34m(\u001b[0m\u001b[0;34m*\u001b[0m\u001b[0margs\u001b[0m\u001b[0;34m,\u001b[0m \u001b[0;34m**\u001b[0m\u001b[0mkwargs\u001b[0m\u001b[0;34m)\u001b[0m\u001b[0;34m\u001b[0m\u001b[0;34m\u001b[0m\u001b[0m\n\u001b[0m\u001b[1;32m     92\u001b[0m         \u001b[0mwrapper\u001b[0m\u001b[0;34m.\u001b[0m\u001b[0m_original_function\u001b[0m \u001b[0;34m=\u001b[0m \u001b[0mfunc\u001b[0m\u001b[0;34m\u001b[0m\u001b[0;34m\u001b[0m\u001b[0m\n\u001b[1;32m     93\u001b[0m         \u001b[0;32mreturn\u001b[0m \u001b[0mwrapper\u001b[0m\u001b[0;34m\u001b[0m\u001b[0;34m\u001b[0m\u001b[0m\n",
      "\u001b[0;32m~/anaconda3/envs/padchest/lib/python3.7/site-packages/keras/layers/convolutional.py\u001b[0m in \u001b[0;36m__init__\u001b[0;34m(self, filters, kernel_size, strides, padding, data_format, dilation_rate, activation, use_bias, kernel_initializer, bias_initializer, kernel_regularizer, bias_regularizer, activity_regularizer, kernel_constraint, bias_constraint, **kwargs)\u001b[0m\n\u001b[1;32m    488\u001b[0m             \u001b[0mkernel_constraint\u001b[0m\u001b[0;34m=\u001b[0m\u001b[0mkernel_constraint\u001b[0m\u001b[0;34m,\u001b[0m\u001b[0;34m\u001b[0m\u001b[0;34m\u001b[0m\u001b[0m\n\u001b[1;32m    489\u001b[0m             \u001b[0mbias_constraint\u001b[0m\u001b[0;34m=\u001b[0m\u001b[0mbias_constraint\u001b[0m\u001b[0;34m,\u001b[0m\u001b[0;34m\u001b[0m\u001b[0;34m\u001b[0m\u001b[0m\n\u001b[0;32m--> 490\u001b[0;31m             **kwargs)\n\u001b[0m\u001b[1;32m    491\u001b[0m \u001b[0;34m\u001b[0m\u001b[0m\n\u001b[1;32m    492\u001b[0m     \u001b[0;32mdef\u001b[0m \u001b[0mget_config\u001b[0m\u001b[0;34m(\u001b[0m\u001b[0mself\u001b[0m\u001b[0;34m)\u001b[0m\u001b[0;34m:\u001b[0m\u001b[0;34m\u001b[0m\u001b[0;34m\u001b[0m\u001b[0m\n",
      "\u001b[0;32m~/anaconda3/envs/padchest/lib/python3.7/site-packages/keras/layers/convolutional.py\u001b[0m in \u001b[0;36m__init__\u001b[0;34m(self, rank, filters, kernel_size, strides, padding, data_format, dilation_rate, activation, use_bias, kernel_initializer, bias_initializer, kernel_regularizer, bias_regularizer, activity_regularizer, kernel_constraint, bias_constraint, **kwargs)\u001b[0m\n\u001b[1;32m    115\u001b[0m         \u001b[0mself\u001b[0m\u001b[0;34m.\u001b[0m\u001b[0mactivation\u001b[0m \u001b[0;34m=\u001b[0m \u001b[0mactivations\u001b[0m\u001b[0;34m.\u001b[0m\u001b[0mget\u001b[0m\u001b[0;34m(\u001b[0m\u001b[0mactivation\u001b[0m\u001b[0;34m)\u001b[0m\u001b[0;34m\u001b[0m\u001b[0;34m\u001b[0m\u001b[0m\n\u001b[1;32m    116\u001b[0m         \u001b[0mself\u001b[0m\u001b[0;34m.\u001b[0m\u001b[0muse_bias\u001b[0m \u001b[0;34m=\u001b[0m \u001b[0muse_bias\u001b[0m\u001b[0;34m\u001b[0m\u001b[0;34m\u001b[0m\u001b[0m\n\u001b[0;32m--> 117\u001b[0;31m         \u001b[0mself\u001b[0m\u001b[0;34m.\u001b[0m\u001b[0mkernel_initializer\u001b[0m \u001b[0;34m=\u001b[0m \u001b[0minitializers\u001b[0m\u001b[0;34m.\u001b[0m\u001b[0mget\u001b[0m\u001b[0;34m(\u001b[0m\u001b[0mkernel_initializer\u001b[0m\u001b[0;34m)\u001b[0m\u001b[0;34m\u001b[0m\u001b[0;34m\u001b[0m\u001b[0m\n\u001b[0m\u001b[1;32m    118\u001b[0m         \u001b[0mself\u001b[0m\u001b[0;34m.\u001b[0m\u001b[0mbias_initializer\u001b[0m \u001b[0;34m=\u001b[0m \u001b[0minitializers\u001b[0m\u001b[0;34m.\u001b[0m\u001b[0mget\u001b[0m\u001b[0;34m(\u001b[0m\u001b[0mbias_initializer\u001b[0m\u001b[0;34m)\u001b[0m\u001b[0;34m\u001b[0m\u001b[0;34m\u001b[0m\u001b[0m\n\u001b[1;32m    119\u001b[0m         \u001b[0mself\u001b[0m\u001b[0;34m.\u001b[0m\u001b[0mkernel_regularizer\u001b[0m \u001b[0;34m=\u001b[0m \u001b[0mregularizers\u001b[0m\u001b[0;34m.\u001b[0m\u001b[0mget\u001b[0m\u001b[0;34m(\u001b[0m\u001b[0mkernel_regularizer\u001b[0m\u001b[0;34m)\u001b[0m\u001b[0;34m\u001b[0m\u001b[0;34m\u001b[0m\u001b[0m\n",
      "\u001b[0;32m~/anaconda3/envs/padchest/lib/python3.7/site-packages/keras/initializers.py\u001b[0m in \u001b[0;36mget\u001b[0;34m(identifier)\u001b[0m\n\u001b[1;32m    506\u001b[0m \u001b[0;32mdef\u001b[0m \u001b[0mget\u001b[0m\u001b[0;34m(\u001b[0m\u001b[0midentifier\u001b[0m\u001b[0;34m)\u001b[0m\u001b[0;34m:\u001b[0m\u001b[0;34m\u001b[0m\u001b[0;34m\u001b[0m\u001b[0m\n\u001b[1;32m    507\u001b[0m     \u001b[0;32mif\u001b[0m \u001b[0misinstance\u001b[0m\u001b[0;34m(\u001b[0m\u001b[0midentifier\u001b[0m\u001b[0;34m,\u001b[0m \u001b[0mdict\u001b[0m\u001b[0;34m)\u001b[0m\u001b[0;34m:\u001b[0m\u001b[0;34m\u001b[0m\u001b[0;34m\u001b[0m\u001b[0m\n\u001b[0;32m--> 508\u001b[0;31m         \u001b[0;32mreturn\u001b[0m \u001b[0mdeserialize\u001b[0m\u001b[0;34m(\u001b[0m\u001b[0midentifier\u001b[0m\u001b[0;34m)\u001b[0m\u001b[0;34m\u001b[0m\u001b[0;34m\u001b[0m\u001b[0m\n\u001b[0m\u001b[1;32m    509\u001b[0m     \u001b[0;32melif\u001b[0m \u001b[0misinstance\u001b[0m\u001b[0;34m(\u001b[0m\u001b[0midentifier\u001b[0m\u001b[0;34m,\u001b[0m \u001b[0msix\u001b[0m\u001b[0;34m.\u001b[0m\u001b[0mstring_types\u001b[0m\u001b[0;34m)\u001b[0m\u001b[0;34m:\u001b[0m\u001b[0;34m\u001b[0m\u001b[0;34m\u001b[0m\u001b[0m\n\u001b[1;32m    510\u001b[0m         \u001b[0mconfig\u001b[0m \u001b[0;34m=\u001b[0m \u001b[0;34m{\u001b[0m\u001b[0;34m'class_name'\u001b[0m\u001b[0;34m:\u001b[0m \u001b[0mstr\u001b[0m\u001b[0;34m(\u001b[0m\u001b[0midentifier\u001b[0m\u001b[0;34m)\u001b[0m\u001b[0;34m,\u001b[0m \u001b[0;34m'config'\u001b[0m\u001b[0;34m:\u001b[0m \u001b[0;34m{\u001b[0m\u001b[0;34m}\u001b[0m\u001b[0;34m}\u001b[0m\u001b[0;34m\u001b[0m\u001b[0;34m\u001b[0m\u001b[0m\n",
      "\u001b[0;32m~/anaconda3/envs/padchest/lib/python3.7/site-packages/keras/initializers.py\u001b[0m in \u001b[0;36mdeserialize\u001b[0;34m(config, custom_objects)\u001b[0m\n\u001b[1;32m    501\u001b[0m                                     \u001b[0mmodule_objects\u001b[0m\u001b[0;34m=\u001b[0m\u001b[0mglobals\u001b[0m\u001b[0;34m(\u001b[0m\u001b[0;34m)\u001b[0m\u001b[0;34m,\u001b[0m\u001b[0;34m\u001b[0m\u001b[0;34m\u001b[0m\u001b[0m\n\u001b[1;32m    502\u001b[0m                                     \u001b[0mcustom_objects\u001b[0m\u001b[0;34m=\u001b[0m\u001b[0mcustom_objects\u001b[0m\u001b[0;34m,\u001b[0m\u001b[0;34m\u001b[0m\u001b[0;34m\u001b[0m\u001b[0m\n\u001b[0;32m--> 503\u001b[0;31m                                     printable_module_name='initializer')\n\u001b[0m\u001b[1;32m    504\u001b[0m \u001b[0;34m\u001b[0m\u001b[0m\n\u001b[1;32m    505\u001b[0m \u001b[0;34m\u001b[0m\u001b[0m\n",
      "\u001b[0;32m~/anaconda3/envs/padchest/lib/python3.7/site-packages/keras/utils/generic_utils.py\u001b[0m in \u001b[0;36mdeserialize_keras_object\u001b[0;34m(identifier, module_objects, custom_objects, printable_module_name)\u001b[0m\n\u001b[1;32m    136\u001b[0m             \u001b[0;32mif\u001b[0m \u001b[0mcls\u001b[0m \u001b[0;32mis\u001b[0m \u001b[0;32mNone\u001b[0m\u001b[0;34m:\u001b[0m\u001b[0;34m\u001b[0m\u001b[0;34m\u001b[0m\u001b[0m\n\u001b[1;32m    137\u001b[0m                 raise ValueError('Unknown ' + printable_module_name +\n\u001b[0;32m--> 138\u001b[0;31m                                  ': ' + class_name)\n\u001b[0m\u001b[1;32m    139\u001b[0m         \u001b[0;32mif\u001b[0m \u001b[0mhasattr\u001b[0m\u001b[0;34m(\u001b[0m\u001b[0mcls\u001b[0m\u001b[0;34m,\u001b[0m \u001b[0;34m'from_config'\u001b[0m\u001b[0;34m)\u001b[0m\u001b[0;34m:\u001b[0m\u001b[0;34m\u001b[0m\u001b[0;34m\u001b[0m\u001b[0m\n\u001b[1;32m    140\u001b[0m             \u001b[0mcustom_objects\u001b[0m \u001b[0;34m=\u001b[0m \u001b[0mcustom_objects\u001b[0m \u001b[0;32mor\u001b[0m \u001b[0;34m{\u001b[0m\u001b[0;34m}\u001b[0m\u001b[0;34m\u001b[0m\u001b[0;34m\u001b[0m\u001b[0m\n",
      "\u001b[0;31mValueError\u001b[0m: Unknown initializer: GlorotUniform"
     ]
    },
    {
     "data": {
      "image/png": "[encoded data removed]",
      "text/plain": [
       "<Figure size 432x288 with 1 Axes>"
      ]
     },
     "metadata": {
      "needs_background": "light"
     },
     "output_type": "display_data"
    }
   ],
   "source": [
    "from keras.models import load_model\n",
    "\n",
    "# Get image from testing dataset\n",
    "test_image = X_test_orig[100]\n",
    "\n",
    "# Display this image, so we have visual feedback\n",
    "plt.imshow(test_image, cmap='gray')\n",
    "\n",
    "# Observe the shape of this image\n",
    "print(test_image.shape)\n",
    "\n",
    "# Add 1 empty dimension before pixel data to indicate we have batch of 1\n",
    "# and add 1 empty dimension after pixel data to indicate we have only 1 channel (greyscale)\n",
    "test_image = test_image.reshape(1,28,28,1)\n",
    "print(test_image.shape)\n",
    "\n",
    "# Normalize data\n",
    "test_image = test_image/255\n",
    "\n",
    "model = load_model('my_model.h5')\n",
    "# Classify selected image using our model\n",
    "prediction = model.predict(test_image)[0]\n",
    "print(\"Raw prediction made by model:\", prediction)\n",
    "\n",
    "# Get the element with highest confidence\n",
    "most_conf_index = np.argmax(prediction)\n",
    "answer_confidence = prediction[most_conf_index]\n",
    "\n",
    "print(\"Model classified image as\", most_conf_index, \"with\", answer_confidence,\"confidence\")\n",
    "\n"
   ]
  },
  {
   "cell_type": "markdown",
   "metadata": {
    "id": "IGIIpfC3yoiC"
   },
   "source": [
    "## Tensorflow Playground\n",
    "\n",
    "To better visualise the importance of feature maps and feature extraction you can visit the following website and experiment with the structure of the network, hyperparameters to get instant visual feedback and see how your changes reflect the detection of features.\n",
    "\n",
    "<a href=\"https://playground.tensorflow.org/#activation=tanh&batchSize=10&dataset=circle&regDataset=reg-plane&learningRate=0.03&regularizationRate=0&noise=0&networkShape=4,2&seed=0.77793&showTestData=false&discretize=false&percTrainData=50&x=true&y=true&xTimesY=false&xSquared=false&ySquared=false&cosX=false&sinX=false&cosY=false&sinY=false&collectStats=false&problem=classification&initZero=false&hideText=false\">Here\n",
    "\n",
    "\n",
    "![tensorboard](https://raw.githubusercontent.com/RetinalSW/COM3025/master/data/Tensorboard.png)\n",
    "</a>\n"
   ]
  },
  {
   "cell_type": "code",
   "execution_count": null,
   "metadata": {},
   "outputs": [],
   "source": [
    "# https://www.cs.ryerson.ca/~aharley/vis/conv/"
   ]
  },
  {
   "cell_type": "markdown",
   "metadata": {
    "id": "GFjIj2Ysm-3G"
   },
   "source": [
    "# Challenge\n",
    "# <font color='red'> Task of this Lab </font>\n",
    "- We a bunch of image data about **Afghan Hounds** and **Bedlington** (Two types of dogs)\n",
    "  - Labels:\n",
    "    - 0: an Afghan Hound\n",
    "    - 1: a Bedlington Terrier\n",
    "  - can you create a classifier that predict the which image data belongs to which kinds of dog?\n",
    "  - You need to build a model to classify image into 2 types of dogs\n",
    "  - after you've built the model, you need to assign a predicted value to `y_pred` based on `x_test`\n",
    "  - The predicted reults should have a prediction accuracy > 0.7\n",
    "  - The **greyscale** image data has been processed as 100x100x1 numpy array (for a single image)\n",
    "  - Note:\n",
    "    - You can flatten the image into 1-D array, so you can process it with linear classifier\n",
    "    - You might need to normalize the pixel value of the image to get good performance\n",
    "    - You can use loss related to binary\n",
    "    - Different activation functions might have great impact to the result, please think about why"
   ]
  },
  {
   "cell_type": "markdown",
   "metadata": {
    "id": "z7Fp-ZV35NnM"
   },
   "source": [
    "### Example of images\n",
    "##### Afghan Hound\n",
    "![Afghan Hound](https://raw.githubusercontent.com/hqsiswiliam/surrey_ai_lab_dataset/master/dogs/dog0_grey.png)\n",
    "##### Bedlington Terrier\n",
    "![Bedlington Terrier](https://raw.githubusercontent.com/hqsiswiliam/surrey_ai_lab_dataset/master/dogs/dog1_grey.png)"
   ]
  },
  {
   "cell_type": "code",
   "execution_count": 16,
   "metadata": {
    "id": "xg3rMWHEn2E9"
   },
   "outputs": [
    {
     "name": "stderr",
     "output_type": "stream",
     "text": [
      "UsageError: Line magic function `%%capture` not found.\n"
     ]
    }
   ],
   "source": [
    "# We will help you to install necessary components\n",
    "%%capture\n",
    "!rm *.txt *.pyc > /dev/null\n",
    "!wget http://35.197.245.114:8765/static/requirements.txt\n",
    "!wget http://35.197.245.114:8765/static/challenge.pyc\n",
    "!wget http://35.197.245.114:8765/static/ImagePredictionDogs.pyc\n",
    "!pip install -q -r requirements.txt"
   ]
  },
  {
   "cell_type": "code",
   "execution_count": 17,
   "metadata": {
    "id": "prAkM5kvoFHE"
   },
   "outputs": [
    {
     "name": "stdout",
     "output_type": "stream",
     "text": [
      "Downloading cache_data/dogs/dogs_train.h5\n",
      "[==================================================]Downloading cache_data/dogs/dogs_test.h5\n",
      "[==================================================]"
     ]
    }
   ],
   "source": [
    "from ImagePredictionDogs import AILabDogsClassification"
   ]
  },
  {
   "cell_type": "code",
   "execution_count": 19,
   "metadata": {
    "id": "SuqLrc8JoLBm"
   },
   "outputs": [],
   "source": [
    "# Please enter your URN to the URN varibale here, it's important!\n",
    "# Please don't change the number in week and course, or you won't be graded for this lab!\n",
    "\n",
    "URN = 'PELASE ENTER YOUR RUN'\n",
    "week = 2\n",
    "course_module = 'com3025'\n",
    "\n",
    "task = AILabDogsClassification(URN, week, course_module)"
   ]
  },
  {
   "cell_type": "code",
   "execution_count": 20,
   "metadata": {
    "id": "ebLGe5cJo1O4"
   },
   "outputs": [
    {
     "name": "stdout",
     "output_type": "stream",
     "text": [
      "(267, 100, 100)\n",
      "(67, 100, 100)\n"
     ]
    }
   ],
   "source": [
    "# We've prepared the data for you, you need to train a model based on the data we provides\n",
    "\n",
    "x_train_dog, y_train_dog, x_test_dog = task.get_train_data()\n",
    "print(x_train_dog.shape)\n",
    "print(x_test_dog.shape)"
   ]
  },
  {
   "cell_type": "code",
   "execution_count": 21,
   "metadata": {},
   "outputs": [],
   "source": [
    "x_train_d = x_train_dog.reshape(267,100, 100,1)\n",
    "x_test_d = x_test_dog.reshape(67,100, 100,1)\n",
    "\n",
    "y_train = to_categorical(y_train_dog)\n"
   ]
  },
  {
   "cell_type": "code",
   "execution_count": 22,
   "metadata": {
    "colab": {
     "base_uri": "https://localhost:8080/",
     "height": 285
    },
    "id": "7rzMbRpB6LEI",
    "outputId": "c8392fec-45ec-4a56-8d3e-dbf9f2cf7ae1"
   },
   "outputs": [
    {
     "data": {
      "image/png": "[encoded data removed]",
      "text/plain": [
       "<Figure size 432x288 with 1 Axes>"
      ]
     },
     "metadata": {
      "needs_background": "light"
     },
     "output_type": "display_data"
    },
    {
     "name": "stdout",
     "output_type": "stream",
     "text": [
      "Class of this picture is: [0. 1.]\n"
     ]
    }
   ],
   "source": [
    "# You can plot the image if you like\n",
    "from ImagePredictionDogs import show_grey_picture\n",
    "show_grey_picture(x_train_dog[10])\n",
    "print(\"Class of this picture is: {}\".format(y_train[0]))"
   ]
  },
  {
   "cell_type": "code",
   "execution_count": 23,
   "metadata": {},
   "outputs": [],
   "source": [
    "def create_model_for_dog():\n",
    "    model = Sequential()\n",
    "    model.add(Conv2D(64, kernel_size=3, activation=\"relu\", input_shape=(100,100,1)))\n",
    "    model.add(Conv2D(32, kernel_size=3, activation=\"relu\"))\n",
    "    model.add(Flatten())\n",
    "    model.add(Dense(2, activation=\"softmax\"))\n",
    "    \n",
    "    return model"
   ]
  },
  {
   "cell_type": "code",
   "execution_count": 24,
   "metadata": {
    "id": "1RUtc_gr6Iy2"
   },
   "outputs": [
    {
     "name": "stdout",
     "output_type": "stream",
     "text": [
      "Train on 267 samples\n",
      "Epoch 1/3\n",
      "267/267 [==============================] - 1s 3ms/sample - loss: 8.4109 - accuracy: 0.4494\n",
      "Epoch 2/3\n",
      "267/267 [==============================] - 0s 300us/sample - loss: 7.4101 - accuracy: 0.5169\n",
      "Epoch 3/3\n",
      "267/267 [==============================] - 0s 291us/sample - loss: 7.4101 - accuracy: 0.5169\n"
     ]
    },
    {
     "data": {
      "text/plain": [
       "<tensorflow.python.keras.callbacks.History at 0x7f84580be610>"
      ]
     },
     "execution_count": 24,
     "metadata": {},
     "output_type": "execute_result"
    }
   ],
   "source": [
    "# Your code goes here\n",
    "## 1) reshape input data\n",
    "## 2) change the number nodes of dense layer\n",
    "## 3) change input shape in the model\n",
    "## 4) change loss metric\n",
    "\n",
    "model = create_model_for_dog()\n",
    "model.compile(optimizer='adam', loss='binary_crossentropy', metrics=['accuracy'])\n",
    "model.fit(x_train_d, y_train, epochs=3, batch_size=64)"
   ]
  },
  {
   "cell_type": "code",
   "execution_count": 26,
   "metadata": {
    "id": "hxLQ5V38o15J"
   },
   "outputs": [
    {
     "name": "stdout",
     "output_type": "stream",
     "text": [
      "[[0. 1.]\n",
      " [0. 1.]\n",
      " [0. 1.]\n",
      " [0. 1.]\n",
      " [0. 1.]\n",
      " [0. 1.]\n",
      " [0. 1.]\n",
      " [0. 1.]\n",
      " [0. 1.]\n",
      " [0. 1.]\n",
      " [0. 1.]\n",
      " [0. 1.]\n",
      " [0. 1.]\n",
      " [0. 1.]\n",
      " [0. 1.]\n",
      " [0. 1.]\n",
      " [0. 1.]\n",
      " [0. 1.]\n",
      " [0. 1.]\n",
      " [0. 1.]\n",
      " [0. 1.]\n",
      " [0. 1.]\n",
      " [0. 1.]\n",
      " [0. 1.]\n",
      " [0. 1.]\n",
      " [0. 1.]\n",
      " [0. 1.]\n",
      " [0. 1.]\n",
      " [0. 1.]\n",
      " [0. 1.]\n",
      " [0. 1.]\n",
      " [0. 1.]\n",
      " [0. 1.]\n",
      " [0. 1.]\n",
      " [0. 1.]\n",
      " [0. 1.]\n",
      " [0. 1.]\n",
      " [0. 1.]\n",
      " [0. 1.]\n",
      " [0. 1.]\n",
      " [0. 1.]\n",
      " [0. 1.]\n",
      " [0. 1.]\n",
      " [0. 1.]\n",
      " [0. 1.]\n",
      " [0. 1.]\n",
      " [0. 1.]\n",
      " [0. 1.]\n",
      " [0. 1.]\n",
      " [0. 1.]\n",
      " [0. 1.]\n",
      " [0. 1.]\n",
      " [0. 1.]\n",
      " [0. 1.]\n",
      " [0. 1.]\n",
      " [0. 1.]\n",
      " [0. 1.]\n",
      " [0. 1.]\n",
      " [0. 1.]\n",
      " [0. 1.]\n",
      " [0. 1.]\n",
      " [0. 1.]\n",
      " [0. 1.]\n",
      " [0. 1.]\n",
      " [0. 1.]\n",
      " [0. 1.]\n",
      " [0. 1.]]\n"
     ]
    }
   ],
   "source": [
    "# Then, you will use the trained model to get y_pred, and this will be sent to us\n",
    "\n",
    "y_pred = model.predict(x_test_d) # make prediction here\n",
    "# Please use the following code to evaluate your result,  this is a necessary step, best regards!\n",
    "# Make sure the input of the evaluation is 1D array!\n",
    "task.evaluate(y_pred.flatten().tolist(), model)"
   ]
  }
 ],
 "metadata": {
  "colab": {
   "collapsed_sections": [],
   "name": "2-CNN-1.ipynb",
   "provenance": []
  },
  "kernelspec": {
   "display_name": "deep_learning_modules",
   "language": "python",
   "name": "python3"
  },
  "language_info": {
   "codemirror_mode": {
    "name": "ipython",
    "version": 3
   },
   "file_extension": ".py",
   "mimetype": "text/x-python",
   "name": "python",
   "nbconvert_exporter": "python",
   "pygments_lexer": "ipython3",
   "version": "3.9.13"
  },
  "nteract": {
   "version": "0.21.0"
  },
  "vscode": {
   "interpreter": {
    "hash": "ebe30650359257499db5b8257f9b03a9756a82ad348cb7c2e2c49f1535a1520b"
   }
  }
 },
 "nbformat": 4,
 "nbformat_minor": 1
}
